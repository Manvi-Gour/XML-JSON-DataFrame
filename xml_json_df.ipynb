{
  "nbformat": 4,
  "nbformat_minor": 0,
  "metadata": {
    "colab": {
      "provenance": []
    },
    "kernelspec": {
      "name": "python3",
      "display_name": "Python 3"
    },
    "language_info": {
      "name": "python"
    }
  },
  "cells": [
    {
      "cell_type": "markdown",
      "source": [
        "# **Xml to Json**"
      ],
      "metadata": {
        "id": "RckU5INV2iPi"
      }
    },
    {
      "cell_type": "code",
      "source": [
        "pip install xmltodict\n"
      ],
      "metadata": {
        "colab": {
          "base_uri": "https://localhost:8080/"
        },
        "id": "JPq8cVmFyy3N",
        "outputId": "8bc6a933-a151-40be-9b1d-e32e9f429275"
      },
      "execution_count": 2,
      "outputs": [
        {
          "output_type": "stream",
          "name": "stdout",
          "text": [
            "Collecting xmltodict\n",
            "  Downloading xmltodict-0.13.0-py2.py3-none-any.whl (10.0 kB)\n",
            "Installing collected packages: xmltodict\n",
            "Successfully installed xmltodict-0.13.0\n"
          ]
        }
      ]
    },
    {
      "cell_type": "code",
      "source": [
        "import xmltodict\n",
        "import json\n",
        "\n",
        "\n",
        "def xml_to_json(xml_file_path, json_file_path):\n",
        "\n",
        "    with open(xml_file_path, 'r', encoding='utf-8') as xml_file:\n",
        "        xml_content = xml_file.read()\n",
        "\n",
        "    #XML to dictionary\n",
        "    xml_dict = xmltodict.parse(xml_content)\n",
        "\n",
        "    #dictionary to JSON\n",
        "    json_content = json.dumps(xml_dict, indent=4)\n",
        "\n",
        "    # to write the JSON content in a file\n",
        "    with open(json_file_path, 'w', encoding='utf-8') as json_file:\n",
        "        json_file.write(json_content)\n",
        "\n",
        "\n",
        "xml_file_path = input('Enter File Name  ').strip()\n",
        "json_file_path = input('Enter File Name  ').strip()\n",
        "xml_to_json(xml_file_path, json_file_path)\n"
      ],
      "metadata": {
        "colab": {
          "base_uri": "https://localhost:8080/"
        },
        "id": "RqVvaGYr03T6",
        "outputId": "8ae598fa-304c-484d-a52a-124f2758fa66"
      },
      "execution_count": 4,
      "outputs": [
        {
          "name": "stdout",
          "output_type": "stream",
          "text": [
            "Enter File Name  xml1.xml\n",
            "Enter File Name  data.json\n"
          ]
        }
      ]
    },
    {
      "cell_type": "markdown",
      "source": [
        "# **Json to DataFrame**"
      ],
      "metadata": {
        "id": "tEcViH532q0p"
      }
    },
    {
      "cell_type": "code",
      "source": [
        "import pandas as pd\n",
        "import json\n",
        "\n",
        "\n",
        "def json_to_csv(json_file_path):\n",
        "\n",
        "    with open(json_file_path, 'r', encoding='utf-8') as json_file:\n",
        "        json_dict = json.load(json_file)\n",
        "\n",
        "    # Normalize the JSON content for different sections\n",
        "    company_info = pd.json_normalize(json_dict['company'], sep='_')\n",
        "    employees_info = pd.json_normalize(json_dict['company']['employees']['employee'], sep='_')\n",
        "    departments_info = pd.json_normalize(json_dict['company']['departments']['department'], sep='_')\n",
        "\n",
        "    # Save DataFrames to CSV files\n",
        "    company_info.to_csv('company_info.csv', index=False)\n",
        "    employees_info.to_csv('employees_info.csv', index=False)\n",
        "    departments_info.to_csv('departments_info.csv', index=False)\n",
        "\n",
        "    print(\"CSV files saved successfully.\")\n",
        "\n",
        "\n",
        "json_file_path = 'data.json'\n",
        "json_to_csv(json_file_path)\n"
      ],
      "metadata": {
        "colab": {
          "base_uri": "https://localhost:8080/"
        },
        "id": "EriJYet41OYB",
        "outputId": "f9411db3-8ca9-443b-a470-a95edcc13777"
      },
      "execution_count": 5,
      "outputs": [
        {
          "output_type": "stream",
          "name": "stdout",
          "text": [
            "CSV files saved successfully.\n"
          ]
        }
      ]
    },
    {
      "cell_type": "markdown",
      "source": [
        "# **-------ABC---------**"
      ],
      "metadata": {
        "id": "wZw3rZGRD0Jq"
      }
    },
    {
      "cell_type": "code",
      "source": [
        "def json_to_csv(json_file_path):\n",
        "    # Read the JSON file\n",
        "    with open(json_file_path, 'r', encoding='utf-8') as json_file:\n",
        "        json_dict = json.load(json_file)\n",
        "\n",
        "    # Normalize the JSON content for different sections\n",
        "    CODE_info = pd.json_normalize(json_dict['DATA']['TYPE_CODE']['CODE'], sep='_')\n",
        "    DIST_CODE_info = pd.json_normalize(json_dict['DATA']['DIST_CODE']['CODE'], sep='_')\n",
        "    INFO_CODE_info = pd.json_normalize(json_dict['DATA']['INFO_CODE']['CODE'], sep='_')\n",
        "\n",
        "    # Save DataFrames to CSV files\n",
        "    CODE_info.to_csv('code_info.csv', index=False)\n",
        "    DIST_CODE_info.to_csv('dist_code_info.csv', index=False)\n",
        "    INFO_CODE_info.to_csv('info_code_info.csv', index=False)\n",
        "\n",
        "    print(\"CSV files saved successfully.\")\n",
        "\n",
        "json_file_path = 'abc.json'\n",
        "json_to_csv(json_file_path)\n"
      ],
      "metadata": {
        "colab": {
          "base_uri": "https://localhost:8080/"
        },
        "id": "BbCAfpF2BrHC",
        "outputId": "ae7aa359-366f-4773-fe9a-af8c842ca119"
      },
      "execution_count": null,
      "outputs": [
        {
          "output_type": "stream",
          "name": "stdout",
          "text": [
            "CSV files saved successfully.\n"
          ]
        }
      ]
    },
    {
      "cell_type": "code",
      "source": [],
      "metadata": {
        "id": "5eyg0nlpCdXI"
      },
      "execution_count": null,
      "outputs": []
    }
  ]
}